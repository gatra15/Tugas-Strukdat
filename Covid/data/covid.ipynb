{
 "cells": [
  {
   "cell_type": "code",
   "execution_count": 1,
   "metadata": {},
   "outputs": [],
   "source": [
    "import pandas as pd\n",
    "import numpy as np\n",
    "import matplotlib.pyplot as plt\n",
    "import seaborn as sns\n",
    "import math\n",
    "from datetime import date\n",
    "\n",
    "def pieChart(title,labels, values):\n",
    "    colors = ['yellowgreen', 'gold', 'lightskyblue', 'lightcoral']\n",
    "    patches, texts = plt.pie(values,colors=colors, startangle=90)\n",
    "    plt.legend(patches, labels, loc=\"best\")\n",
    "    plt.title(title)\n",
    "    # Set aspect ratio to be equal so that pie is drawn as a circle.\n",
    "    plt.axis('equal')\n",
    "    plt.tight_layout()\n",
    "    plt.show()\n",
    "    plt.clf()\n",
    "    \n",
    "def barchart(xVar , yVar , xName , yName , title): \n",
    "    plt.figure(figsize=(12,5))\n",
    "    plt.grid(zorder=0)\n",
    "    plt.bar(xVar , yVar,edgecolor='black' ,color='lightgreen', zorder= 3)\n",
    "    plt.plot(yVar, color = 'red' , zorder = 4 )\n",
    "    plt.xlabel(xName)\n",
    "    plt.xticks(rotation=90)\n",
    "    plt.ylabel(yName)\n",
    "    plt.title(title , fontweight='bold')\n",
    "    #set axis if needed\n",
    "    #plt.ylim(0,1)    \n",
    "    #draw line \n",
    "    #plt.axhline(y=0.0, color='r' , linestyle='-')\n",
    "    plt.show()\n",
    "    plt.clf()"
   ]
  },
  {
   "cell_type": "code",
   "execution_count": 2,
   "metadata": {},
   "outputs": [],
   "source": [
    "kasus = pd.read_csv('./dataset/covid/cases.csv')\n",
    "pasien = pd.read_csv('./dataset/covid/patient.csv')"
   ]
  },
  {
   "cell_type": "code",
   "execution_count": 3,
   "metadata": {},
   "outputs": [
    {
     "data": {
      "text/html": [
       "<div>\n",
       "<style scoped>\n",
       "    .dataframe tbody tr th:only-of-type {\n",
       "        vertical-align: middle;\n",
       "    }\n",
       "\n",
       "    .dataframe tbody tr th {\n",
       "        vertical-align: top;\n",
       "    }\n",
       "\n",
       "    .dataframe thead th {\n",
       "        text-align: right;\n",
       "    }\n",
       "</style>\n",
       "<table border=\"1\" class=\"dataframe\">\n",
       "  <thead>\n",
       "    <tr style=\"text-align: right;\">\n",
       "      <th></th>\n",
       "      <th>date</th>\n",
       "      <th>new_tested</th>\n",
       "      <th>acc_tested</th>\n",
       "      <th>new_confirmed</th>\n",
       "      <th>acc_confirmed</th>\n",
       "      <th>acc_negative</th>\n",
       "      <th>being_checked</th>\n",
       "      <th>isolated</th>\n",
       "      <th>new_released</th>\n",
       "      <th>acc_released</th>\n",
       "      <th>new_deceased</th>\n",
       "      <th>acc_deceased</th>\n",
       "      <th>positive_rate</th>\n",
       "      <th>negative_rate</th>\n",
       "      <th>decease_rate</th>\n",
       "      <th>release_rate</th>\n",
       "      <th>dailypositive_rate</th>\n",
       "    </tr>\n",
       "  </thead>\n",
       "  <tbody>\n",
       "    <tr>\n",
       "      <td>25</td>\n",
       "      <td>27-Mar-20</td>\n",
       "      <td>1439.0</td>\n",
       "      <td>5775</td>\n",
       "      <td>153</td>\n",
       "      <td>1046</td>\n",
       "      <td>4729</td>\n",
       "      <td>0</td>\n",
       "      <td>913</td>\n",
       "      <td>11</td>\n",
       "      <td>46</td>\n",
       "      <td>9</td>\n",
       "      <td>87</td>\n",
       "      <td>18.11%</td>\n",
       "      <td>81.89%</td>\n",
       "      <td>8.32%</td>\n",
       "      <td>4.40%</td>\n",
       "      <td>10.63%</td>\n",
       "    </tr>\n",
       "    <tr>\n",
       "      <td>26</td>\n",
       "      <td>28-Mar-20</td>\n",
       "      <td>491.0</td>\n",
       "      <td>6266</td>\n",
       "      <td>109</td>\n",
       "      <td>1155</td>\n",
       "      <td>5111</td>\n",
       "      <td>0</td>\n",
       "      <td>994</td>\n",
       "      <td>13</td>\n",
       "      <td>59</td>\n",
       "      <td>15</td>\n",
       "      <td>102</td>\n",
       "      <td>18.43%</td>\n",
       "      <td>81.57%</td>\n",
       "      <td>8.83%</td>\n",
       "      <td>5.11%</td>\n",
       "      <td>22.20%</td>\n",
       "    </tr>\n",
       "    <tr>\n",
       "      <td>27</td>\n",
       "      <td>29-Mar-20</td>\n",
       "      <td>268.0</td>\n",
       "      <td>6534</td>\n",
       "      <td>130</td>\n",
       "      <td>1285</td>\n",
       "      <td>5249</td>\n",
       "      <td>0</td>\n",
       "      <td>1107</td>\n",
       "      <td>5</td>\n",
       "      <td>64</td>\n",
       "      <td>12</td>\n",
       "      <td>114</td>\n",
       "      <td>19.67%</td>\n",
       "      <td>80.33%</td>\n",
       "      <td>8.87%</td>\n",
       "      <td>4.98%</td>\n",
       "      <td>48.51%</td>\n",
       "    </tr>\n",
       "    <tr>\n",
       "      <td>28</td>\n",
       "      <td>30-Mar-20</td>\n",
       "      <td>129.0</td>\n",
       "      <td>6663</td>\n",
       "      <td>129</td>\n",
       "      <td>1414</td>\n",
       "      <td>5249</td>\n",
       "      <td>0</td>\n",
       "      <td>1217</td>\n",
       "      <td>11</td>\n",
       "      <td>75</td>\n",
       "      <td>8</td>\n",
       "      <td>122</td>\n",
       "      <td>21.22%</td>\n",
       "      <td>78.78%</td>\n",
       "      <td>8.63%</td>\n",
       "      <td>5.30%</td>\n",
       "      <td>100.00%</td>\n",
       "    </tr>\n",
       "    <tr>\n",
       "      <td>29</td>\n",
       "      <td>31-Mar-20</td>\n",
       "      <td>114.0</td>\n",
       "      <td>6777</td>\n",
       "      <td>114</td>\n",
       "      <td>1528</td>\n",
       "      <td>5249</td>\n",
       "      <td>0</td>\n",
       "      <td>1311</td>\n",
       "      <td>6</td>\n",
       "      <td>81</td>\n",
       "      <td>14</td>\n",
       "      <td>136</td>\n",
       "      <td>22.55%</td>\n",
       "      <td>77.45%</td>\n",
       "      <td>8.90%</td>\n",
       "      <td>5.30%</td>\n",
       "      <td>100.00%</td>\n",
       "    </tr>\n",
       "  </tbody>\n",
       "</table>\n",
       "</div>"
      ],
      "text/plain": [
       "         date  new_tested  acc_tested  new_confirmed  acc_confirmed  \\\n",
       "25  27-Mar-20      1439.0        5775            153           1046   \n",
       "26  28-Mar-20       491.0        6266            109           1155   \n",
       "27  29-Mar-20       268.0        6534            130           1285   \n",
       "28  30-Mar-20       129.0        6663            129           1414   \n",
       "29  31-Mar-20       114.0        6777            114           1528   \n",
       "\n",
       "    acc_negative  being_checked  isolated  new_released  acc_released  \\\n",
       "25          4729              0       913            11            46   \n",
       "26          5111              0       994            13            59   \n",
       "27          5249              0      1107             5            64   \n",
       "28          5249              0      1217            11            75   \n",
       "29          5249              0      1311             6            81   \n",
       "\n",
       "    new_deceased  acc_deceased positive_rate negative_rate decease_rate  \\\n",
       "25             9            87        18.11%        81.89%        8.32%   \n",
       "26            15           102        18.43%        81.57%        8.83%   \n",
       "27            12           114        19.67%        80.33%        8.87%   \n",
       "28             8           122        21.22%        78.78%        8.63%   \n",
       "29            14           136        22.55%        77.45%        8.90%   \n",
       "\n",
       "   release_rate dailypositive_rate  \n",
       "25        4.40%             10.63%  \n",
       "26        5.11%             22.20%  \n",
       "27        4.98%             48.51%  \n",
       "28        5.30%            100.00%  \n",
       "29        5.30%            100.00%  "
      ]
     },
     "execution_count": 3,
     "metadata": {},
     "output_type": "execute_result"
    }
   ],
   "source": [
    "kasus.tail(5)"
   ]
  },
  {
   "cell_type": "code",
   "execution_count": 4,
   "metadata": {},
   "outputs": [
    {
     "data": {
      "text/html": [
       "<div>\n",
       "<style scoped>\n",
       "    .dataframe tbody tr th:only-of-type {\n",
       "        vertical-align: middle;\n",
       "    }\n",
       "\n",
       "    .dataframe tbody tr th {\n",
       "        vertical-align: top;\n",
       "    }\n",
       "\n",
       "    .dataframe thead th {\n",
       "        text-align: right;\n",
       "    }\n",
       "</style>\n",
       "<table border=\"1\" class=\"dataframe\">\n",
       "  <thead>\n",
       "    <tr style=\"text-align: right;\">\n",
       "      <th></th>\n",
       "      <th>patient_id</th>\n",
       "      <th>age</th>\n",
       "      <th>contacted_with</th>\n",
       "    </tr>\n",
       "  </thead>\n",
       "  <tbody>\n",
       "    <tr>\n",
       "      <td>count</td>\n",
       "      <td>893.000000</td>\n",
       "      <td>156.000000</td>\n",
       "      <td>27.000000</td>\n",
       "    </tr>\n",
       "    <tr>\n",
       "      <td>mean</td>\n",
       "      <td>447.000000</td>\n",
       "      <td>48.108974</td>\n",
       "      <td>30.555556</td>\n",
       "    </tr>\n",
       "    <tr>\n",
       "      <td>std</td>\n",
       "      <td>257.931192</td>\n",
       "      <td>16.627833</td>\n",
       "      <td>36.051601</td>\n",
       "    </tr>\n",
       "    <tr>\n",
       "      <td>min</td>\n",
       "      <td>1.000000</td>\n",
       "      <td>2.000000</td>\n",
       "      <td>1.000000</td>\n",
       "    </tr>\n",
       "    <tr>\n",
       "      <td>25%</td>\n",
       "      <td>224.000000</td>\n",
       "      <td>36.000000</td>\n",
       "      <td>1.000000</td>\n",
       "    </tr>\n",
       "    <tr>\n",
       "      <td>50%</td>\n",
       "      <td>447.000000</td>\n",
       "      <td>49.000000</td>\n",
       "      <td>1.000000</td>\n",
       "    </tr>\n",
       "    <tr>\n",
       "      <td>75%</td>\n",
       "      <td>670.000000</td>\n",
       "      <td>59.000000</td>\n",
       "      <td>74.000000</td>\n",
       "    </tr>\n",
       "    <tr>\n",
       "      <td>max</td>\n",
       "      <td>893.000000</td>\n",
       "      <td>86.000000</td>\n",
       "      <td>83.000000</td>\n",
       "    </tr>\n",
       "  </tbody>\n",
       "</table>\n",
       "</div>"
      ],
      "text/plain": [
       "       patient_id         age  contacted_with\n",
       "count  893.000000  156.000000       27.000000\n",
       "mean   447.000000   48.108974       30.555556\n",
       "std    257.931192   16.627833       36.051601\n",
       "min      1.000000    2.000000        1.000000\n",
       "25%    224.000000   36.000000        1.000000\n",
       "50%    447.000000   49.000000        1.000000\n",
       "75%    670.000000   59.000000       74.000000\n",
       "max    893.000000   86.000000       83.000000"
      ]
     },
     "execution_count": 4,
     "metadata": {},
     "output_type": "execute_result"
    }
   ],
   "source": [
    "pasien.describe()"
   ]
  },
  {
   "cell_type": "code",
   "execution_count": 5,
   "metadata": {},
   "outputs": [
    {
     "name": "stdout",
     "output_type": "stream",
     "text": [
      "<class 'pandas.core.frame.DataFrame'>\n",
      "RangeIndex: 893 entries, 0 to 892\n",
      "Data columns (total 11 columns):\n",
      "patient_id        893 non-null int64\n",
      "gender            156 non-null object\n",
      "age               156 non-null float64\n",
      "nationality       156 non-null object\n",
      "province          156 non-null object\n",
      "current_state     166 non-null object\n",
      "contacted_with    27 non-null float64\n",
      "confirmed_date    893 non-null object\n",
      "released_date     5 non-null object\n",
      "deceased_date     4 non-null object\n",
      "hospital          17 non-null object\n",
      "dtypes: float64(2), int64(1), object(8)\n",
      "memory usage: 76.9+ KB\n"
     ]
    }
   ],
   "source": [
    "pasien.info()"
   ]
  },
  {
   "cell_type": "code",
   "execution_count": 6,
   "metadata": {},
   "outputs": [
    {
     "data": {
      "text/plain": [
       "isolated    143\n",
       "deceased     15\n",
       "released      8\n",
       "Name: current_state, dtype: int64"
      ]
     },
     "execution_count": 6,
     "metadata": {},
     "output_type": "execute_result"
    }
   ],
   "source": [
    "pasien['current_state'].value_counts()"
   ]
  },
  {
   "cell_type": "code",
   "execution_count": 14,
   "metadata": {},
   "outputs": [
    {
     "data": {
      "image/png": "[encoded data removed]",
      "text/plain": [
       "<Figure size 864x360 with 1 Axes>"
      ]
     },
     "metadata": {
      "needs_background": "light"
     },
     "output_type": "display_data"
    },
    {
     "data": {
      "text/plain": [
       "<Figure size 432x288 with 0 Axes>"
      ]
     },
     "metadata": {},
     "output_type": "display_data"
    }
   ],
   "source": [
    "##    JUMLAH YANG DIPERIKSA 10 HARI TERAKHIR \n",
    "##    HOW MANY PATIENTS BEING CHECKED LAST 10 TEN DAYS \n",
    "last_Data = kasus.tail(1)\n",
    "last_Date = last_Data['date'].values[0] \n",
    "\n",
    "last_fiveDay = kasus.tail(10)\n",
    "barchart(kasus.date , kasus.acc_tested , 'Last Checked Date', 'How Many People  Being Checked' , \n",
    "         'Akumulasi seberapa banyak orang yang sudah dicek \\n untuk Covid-19 hingga ' + last_Date + ' di Indonesia') "
   ]
  },
  {
   "cell_type": "code",
   "execution_count": 13,
   "metadata": {},
   "outputs": [
    {
     "data": {
      "image/png": "[encoded data removed]",
      "text/plain": [
       "<Figure size 432x288 with 1 Axes>"
      ]
     },
     "metadata": {},
     "output_type": "display_data"
    },
    {
     "data": {
      "text/plain": [
       "<Figure size 432x288 with 0 Axes>"
      ]
     },
     "metadata": {},
     "output_type": "display_data"
    }
   ],
   "source": [
    "patientgroupbycs= pasien[['current_state', 'patient_id']].groupby('current_state').count()\n",
    "pieChart('Perkembangan sementara pasien Covid \\n di  Indonesia hingga ' + last_Date,\n",
    "        patientgroupbycs.index,\n",
    "        patientgroupbycs.patient_id)"
   ]
  },
  {
   "cell_type": "code",
   "execution_count": null,
   "metadata": {},
   "outputs": [],
   "source": []
  }
 ],
 "metadata": {
  "kernelspec": {
   "display_name": "Python 3",
   "language": "python",
   "name": "python3"
  },
  "language_info": {
   "codemirror_mode": {
    "name": "ipython",
    "version": 3
   },
   "file_extension": ".py",
   "mimetype": "text/x-python",
   "name": "python",
   "nbconvert_exporter": "python",
   "pygments_lexer": "ipython3",
   "version": "3.7.4"
  }
 },
 "nbformat": 4,
 "nbformat_minor": 2
}
